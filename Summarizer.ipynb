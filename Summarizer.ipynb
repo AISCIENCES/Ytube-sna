{
 "cells": [
  {
   "cell_type": "code",
   "execution_count": 1,
   "id": "b826dc52",
   "metadata": {},
   "outputs": [
    {
     "name": "stdout",
     "output_type": "stream",
     "text": [
      "Collecting textblob==0.9.0\n",
      "  Downloading textblob-0.9.0-py2.py3-none-any.whl (640 kB)\n",
      "Requirement already satisfied: nltk>=3.0 in c:\\users\\lenovo\\anaconda3\\envs\\grl\\lib\\site-packages (from textblob==0.9.0) (3.6.5)\n",
      "Requirement already satisfied: joblib in c:\\users\\lenovo\\anaconda3\\envs\\grl\\lib\\site-packages (from nltk>=3.0->textblob==0.9.0) (1.1.0)\n",
      "Requirement already satisfied: click in c:\\users\\lenovo\\anaconda3\\envs\\grl\\lib\\site-packages (from nltk>=3.0->textblob==0.9.0) (8.0.3)\n",
      "Requirement already satisfied: regex>=2021.8.3 in c:\\users\\lenovo\\anaconda3\\envs\\grl\\lib\\site-packages (from nltk>=3.0->textblob==0.9.0) (2022.3.15)\n",
      "Requirement already satisfied: tqdm in c:\\users\\lenovo\\anaconda3\\envs\\grl\\lib\\site-packages (from nltk>=3.0->textblob==0.9.0) (4.62.3)\n",
      "Requirement already satisfied: importlib-metadata in c:\\users\\lenovo\\anaconda3\\envs\\grl\\lib\\site-packages (from click->nltk>=3.0->textblob==0.9.0) (4.8.2)\n",
      "Requirement already satisfied: colorama in c:\\users\\lenovo\\anaconda3\\envs\\grl\\lib\\site-packages (from click->nltk>=3.0->textblob==0.9.0) (0.4.4)\n",
      "Requirement already satisfied: typing-extensions>=3.6.4 in c:\\users\\lenovo\\anaconda3\\envs\\grl\\lib\\site-packages (from importlib-metadata->click->nltk>=3.0->textblob==0.9.0) (4.2.0)\n",
      "Requirement already satisfied: zipp>=0.5 in c:\\users\\lenovo\\anaconda3\\envs\\grl\\lib\\site-packages (from importlib-metadata->click->nltk>=3.0->textblob==0.9.0) (3.7.0)\n",
      "Installing collected packages: textblob\n",
      "Successfully installed textblob-0.9.0\n"
     ]
    },
    {
     "name": "stderr",
     "output_type": "stream",
     "text": [
      "WARNING: Ignoring invalid distribution -umpy (c:\\users\\lenovo\\anaconda3\\envs\\grl\\lib\\site-packages)\n",
      "WARNING: Ignoring invalid distribution -umpy (c:\\users\\lenovo\\anaconda3\\envs\\grl\\lib\\site-packages)\n",
      "WARNING: Ignoring invalid distribution -umpy (c:\\users\\lenovo\\anaconda3\\envs\\grl\\lib\\site-packages)\n",
      "WARNING: Ignoring invalid distribution -umpy (c:\\users\\lenovo\\anaconda3\\envs\\grl\\lib\\site-packages)\n",
      "WARNING: Ignoring invalid distribution -umpy (c:\\users\\lenovo\\anaconda3\\envs\\grl\\lib\\site-packages)\n",
      "WARNING: Ignoring invalid distribution -umpy (c:\\users\\lenovo\\anaconda3\\envs\\grl\\lib\\site-packages)\n",
      "WARNING: Ignoring invalid distribution -umpy (c:\\users\\lenovo\\anaconda3\\envs\\grl\\lib\\site-packages)\n"
     ]
    },
    {
     "name": "stdout",
     "output_type": "stream",
     "text": [
      "Requirement already satisfied: nltk in c:\\users\\lenovo\\anaconda3\\envs\\grl\\lib\\site-packages (3.6.5)\n",
      "Requirement already satisfied: joblib in c:\\users\\lenovo\\anaconda3\\envs\\grl\\lib\\site-packages (from nltk) (1.1.0)\n",
      "Requirement already satisfied: tqdm in c:\\users\\lenovo\\anaconda3\\envs\\grl\\lib\\site-packages (from nltk) (4.62.3)\n",
      "Requirement already satisfied: click in c:\\users\\lenovo\\anaconda3\\envs\\grl\\lib\\site-packages (from nltk) (8.0.3)\n",
      "Requirement already satisfied: regex>=2021.8.3 in c:\\users\\lenovo\\anaconda3\\envs\\grl\\lib\\site-packages (from nltk) (2022.3.15)\n",
      "Requirement already satisfied: importlib-metadata in c:\\users\\lenovo\\anaconda3\\envs\\grl\\lib\\site-packages (from click->nltk) (4.8.2)\n",
      "Requirement already satisfied: colorama in c:\\users\\lenovo\\anaconda3\\envs\\grl\\lib\\site-packages (from click->nltk) (0.4.4)\n",
      "Requirement already satisfied: zipp>=0.5 in c:\\users\\lenovo\\anaconda3\\envs\\grl\\lib\\site-packages (from importlib-metadata->click->nltk) (3.7.0)\n",
      "Requirement already satisfied: typing-extensions>=3.6.4 in c:\\users\\lenovo\\anaconda3\\envs\\grl\\lib\\site-packages (from importlib-metadata->click->nltk) (4.2.0)\n"
     ]
    },
    {
     "name": "stderr",
     "output_type": "stream",
     "text": [
      "WARNING: Ignoring invalid distribution -umpy (c:\\users\\lenovo\\anaconda3\\envs\\grl\\lib\\site-packages)\n",
      "WARNING: Ignoring invalid distribution -umpy (c:\\users\\lenovo\\anaconda3\\envs\\grl\\lib\\site-packages)\n",
      "WARNING: Ignoring invalid distribution -umpy (c:\\users\\lenovo\\anaconda3\\envs\\grl\\lib\\site-packages)\n",
      "WARNING: Ignoring invalid distribution -umpy (c:\\users\\lenovo\\anaconda3\\envs\\grl\\lib\\site-packages)\n",
      "WARNING: Ignoring invalid distribution -umpy (c:\\users\\lenovo\\anaconda3\\envs\\grl\\lib\\site-packages)\n",
      "WARNING: Ignoring invalid distribution -umpy (c:\\users\\lenovo\\anaconda3\\envs\\grl\\lib\\site-packages)\n"
     ]
    },
    {
     "name": "stdout",
     "output_type": "stream",
     "text": [
      "Collecting newspaper3k\n",
      "  Downloading newspaper3k-0.2.8-py3-none-any.whl (211 kB)\n",
      "Requirement already satisfied: PyYAML>=3.11 in c:\\users\\lenovo\\anaconda3\\envs\\grl\\lib\\site-packages (from newspaper3k) (6.0)\n",
      "Collecting tldextract>=2.0.1\n",
      "  Downloading tldextract-3.3.1-py3-none-any.whl (93 kB)\n",
      "Collecting tinysegmenter==0.3\n",
      "  Downloading tinysegmenter-0.3.tar.gz (16 kB)\n",
      "Collecting feedparser>=5.2.1\n",
      "  Downloading feedparser-6.0.10-py3-none-any.whl (81 kB)\n",
      "Collecting feedfinder2>=0.0.4\n",
      "  Downloading feedfinder2-0.0.4.tar.gz (3.3 kB)\n",
      "Collecting jieba3k>=0.35.1\n",
      "  Downloading jieba3k-0.35.1.zip (7.4 MB)\n",
      "Requirement already satisfied: nltk>=3.2.1 in c:\\users\\lenovo\\anaconda3\\envs\\grl\\lib\\site-packages (from newspaper3k) (3.6.5)\n",
      "Requirement already satisfied: Pillow>=3.3.0 in c:\\users\\lenovo\\anaconda3\\envs\\grl\\lib\\site-packages (from newspaper3k) (9.0.1)\n",
      "Requirement already satisfied: beautifulsoup4>=4.4.1 in c:\\users\\lenovo\\anaconda3\\envs\\grl\\lib\\site-packages (from newspaper3k) (4.10.0)\n",
      "Requirement already satisfied: python-dateutil>=2.5.3 in c:\\users\\lenovo\\anaconda3\\envs\\grl\\lib\\site-packages (from newspaper3k) (2.8.2)\n",
      "Requirement already satisfied: lxml>=3.6.0 in c:\\users\\lenovo\\anaconda3\\envs\\grl\\lib\\site-packages (from newspaper3k) (4.8.0)\n",
      "Requirement already satisfied: requests>=2.10.0 in c:\\users\\lenovo\\anaconda3\\envs\\grl\\lib\\site-packages (from newspaper3k) (2.27.1)\n",
      "Collecting cssselect>=0.9.2\n",
      "  Downloading cssselect-1.1.0-py2.py3-none-any.whl (16 kB)\n",
      "Requirement already satisfied: soupsieve>1.2 in c:\\users\\lenovo\\anaconda3\\envs\\grl\\lib\\site-packages (from beautifulsoup4>=4.4.1->newspaper3k) (2.3.1)\n",
      "Requirement already satisfied: six in c:\\users\\lenovo\\anaconda3\\envs\\grl\\lib\\site-packages (from feedfinder2>=0.0.4->newspaper3k) (1.16.0)\n",
      "Collecting sgmllib3k\n",
      "  Downloading sgmllib3k-1.0.0.tar.gz (5.8 kB)\n",
      "Requirement already satisfied: tqdm in c:\\users\\lenovo\\anaconda3\\envs\\grl\\lib\\site-packages (from nltk>=3.2.1->newspaper3k) (4.62.3)\n",
      "Requirement already satisfied: click in c:\\users\\lenovo\\anaconda3\\envs\\grl\\lib\\site-packages (from nltk>=3.2.1->newspaper3k) (8.0.3)\n",
      "Requirement already satisfied: regex>=2021.8.3 in c:\\users\\lenovo\\anaconda3\\envs\\grl\\lib\\site-packages (from nltk>=3.2.1->newspaper3k) (2022.3.15)\n",
      "Requirement already satisfied: joblib in c:\\users\\lenovo\\anaconda3\\envs\\grl\\lib\\site-packages (from nltk>=3.2.1->newspaper3k) (1.1.0)\n",
      "Requirement already satisfied: urllib3<1.27,>=1.21.1 in c:\\users\\lenovo\\anaconda3\\envs\\grl\\lib\\site-packages (from requests>=2.10.0->newspaper3k) (1.26.8)\n",
      "Requirement already satisfied: idna<4,>=2.5 in c:\\users\\lenovo\\anaconda3\\envs\\grl\\lib\\site-packages (from requests>=2.10.0->newspaper3k) (3.3)\n",
      "Requirement already satisfied: certifi>=2017.4.17 in c:\\users\\lenovo\\anaconda3\\envs\\grl\\lib\\site-packages (from requests>=2.10.0->newspaper3k) (2021.10.8)\n",
      "Requirement already satisfied: charset-normalizer~=2.0.0 in c:\\users\\lenovo\\anaconda3\\envs\\grl\\lib\\site-packages (from requests>=2.10.0->newspaper3k) (2.0.7)\n",
      "Requirement already satisfied: filelock>=3.0.8 in c:\\users\\lenovo\\anaconda3\\envs\\grl\\lib\\site-packages (from tldextract>=2.0.1->newspaper3k) (3.6.0)\n",
      "Collecting requests-file>=1.4\n",
      "  Downloading requests_file-1.5.1-py2.py3-none-any.whl (3.7 kB)\n",
      "Requirement already satisfied: importlib-metadata in c:\\users\\lenovo\\anaconda3\\envs\\grl\\lib\\site-packages (from click->nltk>=3.2.1->newspaper3k) (4.8.2)\n",
      "Requirement already satisfied: colorama in c:\\users\\lenovo\\anaconda3\\envs\\grl\\lib\\site-packages (from click->nltk>=3.2.1->newspaper3k) (0.4.4)\n",
      "Requirement already satisfied: typing-extensions>=3.6.4 in c:\\users\\lenovo\\anaconda3\\envs\\grl\\lib\\site-packages (from importlib-metadata->click->nltk>=3.2.1->newspaper3k) (4.2.0)\n",
      "Requirement already satisfied: zipp>=0.5 in c:\\users\\lenovo\\anaconda3\\envs\\grl\\lib\\site-packages (from importlib-metadata->click->nltk>=3.2.1->newspaper3k) (3.7.0)\n",
      "Building wheels for collected packages: tinysegmenter, feedfinder2, jieba3k, sgmllib3k\n",
      "  Building wheel for tinysegmenter (setup.py): started\n",
      "  Building wheel for tinysegmenter (setup.py): finished with status 'done'\n",
      "  Created wheel for tinysegmenter: filename=tinysegmenter-0.3-py3-none-any.whl size=13552 sha256=721a562ce6f9160d9cda986bc206a42ed48acbc713ca79d1aefeee2b3eb42be7\n",
      "  Stored in directory: c:\\users\\lenovo\\appdata\\local\\pip\\cache\\wheels\\df\\67\\41\\faca10fa501ca010be41b49d40360c2959e1c4f09bcbfa37fa\n",
      "  Building wheel for feedfinder2 (setup.py): started\n",
      "  Building wheel for feedfinder2 (setup.py): finished with status 'done'\n",
      "  Created wheel for feedfinder2: filename=feedfinder2-0.0.4-py3-none-any.whl size=3356 sha256=de4b411f6a0c3e8077372354d2b8dc6ff09cfda1eefde38c9d26a9cd7e9660ed\n",
      "  Stored in directory: c:\\users\\lenovo\\appdata\\local\\pip\\cache\\wheels\\7f\\d4\\8f\\6e2ca54744c9d7292d88ddb8d42876bcdab5e6d84a21c10346\n",
      "  Building wheel for jieba3k (setup.py): started\n",
      "  Building wheel for jieba3k (setup.py): finished with status 'done'\n",
      "  Created wheel for jieba3k: filename=jieba3k-0.35.1-py3-none-any.whl size=7398405 sha256=e263fc3f0c2ec633731be200d9b944a011011e3bad0e414b282abff51f3804f3\n",
      "  Stored in directory: c:\\users\\lenovo\\appdata\\local\\pip\\cache\\wheels\\4c\\91\\46\\3c208287b726df325a5979574324878b679116e4baae1af3c3\n",
      "  Building wheel for sgmllib3k (setup.py): started\n",
      "  Building wheel for sgmllib3k (setup.py): finished with status 'done'\n",
      "  Created wheel for sgmllib3k: filename=sgmllib3k-1.0.0-py3-none-any.whl size=6065 sha256=baca497a2d72a518718b8b81429dd0acd3381062c16e93541ef0c43eafcca626\n",
      "  Stored in directory: c:\\users\\lenovo\\appdata\\local\\pip\\cache\\wheels\\73\\ad\\a4\\0dff4a6ef231fc0dfa12ffbac2a36cebfdddfe059f50e019aa\n",
      "Successfully built tinysegmenter feedfinder2 jieba3k sgmllib3k\n",
      "Installing collected packages: sgmllib3k, requests-file, tldextract, tinysegmenter, jieba3k, feedparser, feedfinder2, cssselect, newspaper3k\n",
      "Successfully installed cssselect-1.1.0 feedfinder2-0.0.4 feedparser-6.0.10 jieba3k-0.35.1 newspaper3k-0.2.8 requests-file-1.5.1 sgmllib3k-1.0.0 tinysegmenter-0.3 tldextract-3.3.1\n"
     ]
    },
    {
     "name": "stderr",
     "output_type": "stream",
     "text": [
      "WARNING: Ignoring invalid distribution -umpy (c:\\users\\lenovo\\anaconda3\\envs\\grl\\lib\\site-packages)\n",
      "WARNING: Ignoring invalid distribution -umpy (c:\\users\\lenovo\\anaconda3\\envs\\grl\\lib\\site-packages)\n",
      "WARNING: Ignoring invalid distribution -umpy (c:\\users\\lenovo\\anaconda3\\envs\\grl\\lib\\site-packages)\n",
      "WARNING: Ignoring invalid distribution -umpy (c:\\users\\lenovo\\anaconda3\\envs\\grl\\lib\\site-packages)\n",
      "WARNING: Ignoring invalid distribution -umpy (c:\\users\\lenovo\\anaconda3\\envs\\grl\\lib\\site-packages)\n",
      "WARNING: Ignoring invalid distribution -umpy (c:\\users\\lenovo\\anaconda3\\envs\\grl\\lib\\site-packages)\n",
      "WARNING: Ignoring invalid distribution -umpy (c:\\users\\lenovo\\anaconda3\\envs\\grl\\lib\\site-packages)\n",
      "WARNING: Ignoring invalid distribution -umpy (c:\\users\\lenovo\\anaconda3\\envs\\grl\\lib\\site-packages)\n",
      "WARNING: Ignoring invalid distribution -umpy (c:\\users\\lenovo\\anaconda3\\envs\\grl\\lib\\site-packages)\n",
      "WARNING: Ignoring invalid distribution -umpy (c:\\users\\lenovo\\anaconda3\\envs\\grl\\lib\\site-packages)\n",
      "WARNING: Ignoring invalid distribution -umpy (c:\\users\\lenovo\\anaconda3\\envs\\grl\\lib\\site-packages)\n",
      "WARNING: Ignoring invalid distribution -umpy (c:\\users\\lenovo\\anaconda3\\envs\\grl\\lib\\site-packages)\n",
      "WARNING: Ignoring invalid distribution -umpy (c:\\users\\lenovo\\anaconda3\\envs\\grl\\lib\\site-packages)\n",
      "WARNING: Ignoring invalid distribution -umpy (c:\\users\\lenovo\\anaconda3\\envs\\grl\\lib\\site-packages)\n",
      "WARNING: Ignoring invalid distribution -umpy (c:\\users\\lenovo\\anaconda3\\envs\\grl\\lib\\site-packages)\n"
     ]
    }
   ],
   "source": [
    "!pip install textblob==0.9.0\n",
    "!pip install nltk\n",
    "!pip install newspaper3k"
   ]
  },
  {
   "cell_type": "code",
   "execution_count": 2,
   "id": "0470ac5b",
   "metadata": {},
   "outputs": [
    {
     "name": "stderr",
     "output_type": "stream",
     "text": [
      "C:\\Users\\lenovo\\anaconda3\\envs\\grl\\lib\\site-packages\\sklearn\\feature_extraction\\image.py:167: DeprecationWarning: `np.int` is a deprecated alias for the builtin `int`. To silence this warning, use `int` by itself. Doing this will not modify any behavior and is safe. When replacing `np.int`, you may wish to use e.g. `np.int64` or `np.int32` to specify the precision. If you wish to review your current use, check the release note link for additional information.\n",
      "Deprecated in NumPy 1.20; for more details and guidance: https://numpy.org/devdocs/release/1.20.0-notes.html#deprecations\n",
      "  dtype=np.int):\n",
      "C:\\Users\\lenovo\\anaconda3\\envs\\grl\\lib\\site-packages\\sklearn\\linear_model\\least_angle.py:35: DeprecationWarning: `np.float` is a deprecated alias for the builtin `float`. To silence this warning, use `float` by itself. Doing this will not modify any behavior and is safe. If you specifically wanted the numpy scalar type, use `np.float64` here.\n",
      "Deprecated in NumPy 1.20; for more details and guidance: https://numpy.org/devdocs/release/1.20.0-notes.html#deprecations\n",
      "  eps=np.finfo(np.float).eps,\n",
      "C:\\Users\\lenovo\\anaconda3\\envs\\grl\\lib\\site-packages\\sklearn\\linear_model\\least_angle.py:597: DeprecationWarning: `np.float` is a deprecated alias for the builtin `float`. To silence this warning, use `float` by itself. Doing this will not modify any behavior and is safe. If you specifically wanted the numpy scalar type, use `np.float64` here.\n",
      "Deprecated in NumPy 1.20; for more details and guidance: https://numpy.org/devdocs/release/1.20.0-notes.html#deprecations\n",
      "  eps=np.finfo(np.float).eps, copy_X=True, fit_path=True,\n",
      "C:\\Users\\lenovo\\anaconda3\\envs\\grl\\lib\\site-packages\\sklearn\\linear_model\\least_angle.py:836: DeprecationWarning: `np.float` is a deprecated alias for the builtin `float`. To silence this warning, use `float` by itself. Doing this will not modify any behavior and is safe. If you specifically wanted the numpy scalar type, use `np.float64` here.\n",
      "Deprecated in NumPy 1.20; for more details and guidance: https://numpy.org/devdocs/release/1.20.0-notes.html#deprecations\n",
      "  eps=np.finfo(np.float).eps, copy_X=True, fit_path=True,\n",
      "C:\\Users\\lenovo\\anaconda3\\envs\\grl\\lib\\site-packages\\sklearn\\linear_model\\least_angle.py:862: DeprecationWarning: `np.float` is a deprecated alias for the builtin `float`. To silence this warning, use `float` by itself. Doing this will not modify any behavior and is safe. If you specifically wanted the numpy scalar type, use `np.float64` here.\n",
      "Deprecated in NumPy 1.20; for more details and guidance: https://numpy.org/devdocs/release/1.20.0-notes.html#deprecations\n",
      "  eps=np.finfo(np.float).eps, positive=False):\n",
      "C:\\Users\\lenovo\\anaconda3\\envs\\grl\\lib\\site-packages\\sklearn\\linear_model\\least_angle.py:1095: DeprecationWarning: `np.float` is a deprecated alias for the builtin `float`. To silence this warning, use `float` by itself. Doing this will not modify any behavior and is safe. If you specifically wanted the numpy scalar type, use `np.float64` here.\n",
      "Deprecated in NumPy 1.20; for more details and guidance: https://numpy.org/devdocs/release/1.20.0-notes.html#deprecations\n",
      "  max_n_alphas=1000, n_jobs=None, eps=np.finfo(np.float).eps,\n",
      "C:\\Users\\lenovo\\anaconda3\\envs\\grl\\lib\\site-packages\\sklearn\\linear_model\\least_angle.py:1340: DeprecationWarning: `np.float` is a deprecated alias for the builtin `float`. To silence this warning, use `float` by itself. Doing this will not modify any behavior and is safe. If you specifically wanted the numpy scalar type, use `np.float64` here.\n",
      "Deprecated in NumPy 1.20; for more details and guidance: https://numpy.org/devdocs/release/1.20.0-notes.html#deprecations\n",
      "  max_n_alphas=1000, n_jobs=None, eps=np.finfo(np.float).eps,\n",
      "C:\\Users\\lenovo\\anaconda3\\envs\\grl\\lib\\site-packages\\sklearn\\linear_model\\least_angle.py:1476: DeprecationWarning: `np.float` is a deprecated alias for the builtin `float`. To silence this warning, use `float` by itself. Doing this will not modify any behavior and is safe. If you specifically wanted the numpy scalar type, use `np.float64` here.\n",
      "Deprecated in NumPy 1.20; for more details and guidance: https://numpy.org/devdocs/release/1.20.0-notes.html#deprecations\n",
      "  eps=np.finfo(np.float).eps, copy_X=True, positive=False):\n",
      "C:\\Users\\lenovo\\anaconda3\\envs\\grl\\lib\\site-packages\\sklearn\\linear_model\\randomized_l1.py:152: DeprecationWarning: `np.float` is a deprecated alias for the builtin `float`. To silence this warning, use `float` by itself. Doing this will not modify any behavior and is safe. If you specifically wanted the numpy scalar type, use `np.float64` here.\n",
      "Deprecated in NumPy 1.20; for more details and guidance: https://numpy.org/devdocs/release/1.20.0-notes.html#deprecations\n",
      "  precompute=False, eps=np.finfo(np.float).eps,\n",
      "C:\\Users\\lenovo\\anaconda3\\envs\\grl\\lib\\site-packages\\sklearn\\linear_model\\randomized_l1.py:320: DeprecationWarning: `np.float` is a deprecated alias for the builtin `float`. To silence this warning, use `float` by itself. Doing this will not modify any behavior and is safe. If you specifically wanted the numpy scalar type, use `np.float64` here.\n",
      "Deprecated in NumPy 1.20; for more details and guidance: https://numpy.org/devdocs/release/1.20.0-notes.html#deprecations\n",
      "  eps=np.finfo(np.float).eps, random_state=None,\n",
      "C:\\Users\\lenovo\\anaconda3\\envs\\grl\\lib\\site-packages\\sklearn\\linear_model\\randomized_l1.py:580: DeprecationWarning: `np.float` is a deprecated alias for the builtin `float`. To silence this warning, use `float` by itself. Doing this will not modify any behavior and is safe. If you specifically wanted the numpy scalar type, use `np.float64` here.\n",
      "Deprecated in NumPy 1.20; for more details and guidance: https://numpy.org/devdocs/release/1.20.0-notes.html#deprecations\n",
      "  eps=4 * np.finfo(np.float).eps, n_jobs=None,\n"
     ]
    }
   ],
   "source": [
    "import tkinter as tk\n",
    "import nltk\n",
    "from textblob import TextBlob\n",
    "from newspaper import Article"
   ]
  },
  {
   "cell_type": "code",
   "execution_count": 3,
   "id": "fe483021",
   "metadata": {},
   "outputs": [
    {
     "name": "stderr",
     "output_type": "stream",
     "text": [
      "[nltk_data] Downloading package punkt to\n",
      "[nltk_data]     C:\\Users\\lenovo\\AppData\\Roaming\\nltk_data...\n",
      "[nltk_data]   Unzipping tokenizers\\punkt.zip.\n"
     ]
    },
    {
     "data": {
      "text/plain": [
       "True"
      ]
     },
     "execution_count": 3,
     "metadata": {},
     "output_type": "execute_result"
    }
   ],
   "source": [
    "nltk.download('punkt') #model that can wo use for NLP"
   ]
  },
  {
   "cell_type": "code",
   "execution_count": 4,
   "id": "db6e6ff0",
   "metadata": {},
   "outputs": [],
   "source": [
    "url = \"https://www.kdnuggets.com/2020/04/10-must-read-machine-learning-articles-march-2020.html\""
   ]
  },
  {
   "cell_type": "code",
   "execution_count": 5,
   "id": "172cc8f6",
   "metadata": {},
   "outputs": [],
   "source": [
    "article = Article(url)"
   ]
  },
  {
   "cell_type": "code",
   "execution_count": 6,
   "id": "44dd5f5a",
   "metadata": {},
   "outputs": [],
   "source": [
    "article.download() #Download the url Data"
   ]
  },
  {
   "cell_type": "code",
   "execution_count": 7,
   "id": "8edf0305",
   "metadata": {},
   "outputs": [],
   "source": [
    "article.parse() #parse the data the parse dissect the article thats it need"
   ]
  },
  {
   "cell_type": "code",
   "execution_count": 8,
   "id": "a95f9b56",
   "metadata": {},
   "outputs": [],
   "source": [
    "article.nlp() #using natural language proccessing its done everything for you"
   ]
  },
  {
   "cell_type": "code",
   "execution_count": 9,
   "id": "06821d05",
   "metadata": {},
   "outputs": [
    {
     "name": "stdout",
     "output_type": "stream",
     "text": [
      "Title : 10 Must-read Machine Learning Articles (March 2020)\n",
      "Auther : ['Limarc Ambalina']\n",
      "Publication Date : 2020-04-10 00:00:00\n",
      "Summary : Machine Learning News1.\n",
      "Google launches Cloud AI Platform Pipelines — This article explains the beta release of Google’s Cloud AI Platform to aid in machine learning development.\n",
      "The company has described their platform as a simple and easy-to-install environment for machine learning workflows.\n",
      "As you can see, there is still great work being done in machine learning every day.\n",
      "For more machine learning news and guides, don’t forget to follow me on Hacker Noon, Twitter, and my personal blog.\n"
     ]
    }
   ],
   "source": [
    "print('Title :',article.title)\n",
    "print('Auther :',article.authors)\n",
    "print('Publication Date :',article.publish_date)\n",
    "print('Summary :',article.summary)"
   ]
  },
  {
   "cell_type": "code",
   "execution_count": 10,
   "id": "79dc2550",
   "metadata": {},
   "outputs": [
    {
     "name": "stdout",
     "output_type": "stream",
     "text": [
      "positive\n"
     ]
    }
   ],
   "source": [
    "analysis = TextBlob(article.text) #doing Sentimental Analysis we can analysis the whole text\n",
    "if analysis.polarity > 0:\n",
    "    print(\"positive\")\n",
    "elif analysis.polarity < 0:\n",
    "    print(\"negative\")\n",
    "else:\n",
    "    print(\"Neutral\")"
   ]
  },
  {
   "cell_type": "code",
   "execution_count": 11,
   "id": "e4f46fae",
   "metadata": {},
   "outputs": [],
   "source": [
    "def summerize():\n",
    "    url = utext.get('1.0',\"end\").strip() #1.0 => from starting to end url reading\n",
    "    article = Article(url)\n",
    "    article.download()\n",
    "    article.parse()\n",
    "    article.nlp()\n",
    "    \n",
    "    title.config(state = 'normal')\n",
    "    author.config(state = 'normal')\n",
    "    publication.config(state = 'normal')\n",
    "    summary.config(state = 'normal')\n",
    "    sentiment.config(state = 'normal')\n",
    "    \n",
    "    title.delete('1.0', 'end')\n",
    "    title.insert('1.0',article.title)\n",
    "    \n",
    "    author.delete('1.0', 'end')\n",
    "    author.insert('1.0',article.authors)\n",
    "    \n",
    "    publication.delete('1.0', 'end')\n",
    "    publication.insert('1.0',article.publish_date)\n",
    "    \n",
    "    summary.delete('1.0', 'end')\n",
    "    summary.insert('1.0',article.summary)\n",
    "    \n",
    "    sentiment.delete('1.0', 'end')\n",
    "    analysis = TextBlob(article.text)\n",
    "    if analysis.polarity > 0:\n",
    "        sentiment.insert('1.0',\"Postive\")\n",
    "    elif analysis.polarity < 0:\n",
    "        sentiment.insert('1.0',\"Negative\")\n",
    "    else:\n",
    "        sentiment.insert('1.0',\"Neutral\")\n",
    "    \n",
    "    title.config(state = 'disabled')\n",
    "    author.config(state = 'disabled')\n",
    "    publication.config(state = 'disabled')\n",
    "    summary.config(state = 'disabled')\n",
    "    sentiment.config(state = 'disabled')"
   ]
  },
  {
   "cell_type": "code",
   "execution_count": 12,
   "id": "549bee9e",
   "metadata": {},
   "outputs": [
    {
     "ename": "KeyboardInterrupt",
     "evalue": "",
     "output_type": "error",
     "traceback": [
      "\u001b[1;31m---------------------------------------------------------------------------\u001b[0m",
      "\u001b[1;31mKeyboardInterrupt\u001b[0m                         Traceback (most recent call last)",
      "\u001b[1;32m~\\AppData\\Local\\Temp/ipykernel_27384/2140424682.py\u001b[0m in \u001b[0;36m<module>\u001b[1;34m\u001b[0m\n\u001b[0;32m     44\u001b[0m \u001b[1;33m\u001b[0m\u001b[0m\n\u001b[0;32m     45\u001b[0m \u001b[1;33m\u001b[0m\u001b[0m\n\u001b[1;32m---> 46\u001b[1;33m \u001b[0mroot\u001b[0m\u001b[1;33m.\u001b[0m\u001b[0mmainloop\u001b[0m\u001b[1;33m(\u001b[0m\u001b[1;33m)\u001b[0m\u001b[1;33m\u001b[0m\u001b[0m\n\u001b[0m",
      "\u001b[1;32m~\\anaconda3\\envs\\grl\\lib\\tkinter\\__init__.py\u001b[0m in \u001b[0;36mmainloop\u001b[1;34m(self, n)\u001b[0m\n\u001b[0;32m   1278\u001b[0m     \u001b[1;32mdef\u001b[0m \u001b[0mmainloop\u001b[0m\u001b[1;33m(\u001b[0m\u001b[0mself\u001b[0m\u001b[1;33m,\u001b[0m \u001b[0mn\u001b[0m\u001b[1;33m=\u001b[0m\u001b[1;36m0\u001b[0m\u001b[1;33m)\u001b[0m\u001b[1;33m:\u001b[0m\u001b[1;33m\u001b[0m\u001b[0m\n\u001b[0;32m   1279\u001b[0m         \u001b[1;34m\"\"\"Call the mainloop of Tk.\"\"\"\u001b[0m\u001b[1;33m\u001b[0m\u001b[0m\n\u001b[1;32m-> 1280\u001b[1;33m         \u001b[0mself\u001b[0m\u001b[1;33m.\u001b[0m\u001b[0mtk\u001b[0m\u001b[1;33m.\u001b[0m\u001b[0mmainloop\u001b[0m\u001b[1;33m(\u001b[0m\u001b[0mn\u001b[0m\u001b[1;33m)\u001b[0m\u001b[1;33m\u001b[0m\u001b[0m\n\u001b[0m\u001b[0;32m   1281\u001b[0m     \u001b[1;32mdef\u001b[0m \u001b[0mquit\u001b[0m\u001b[1;33m(\u001b[0m\u001b[0mself\u001b[0m\u001b[1;33m)\u001b[0m\u001b[1;33m:\u001b[0m\u001b[1;33m\u001b[0m\u001b[0m\n\u001b[0;32m   1282\u001b[0m         \u001b[1;34m\"\"\"Quit the Tcl interpreter. All widgets will be destroyed.\"\"\"\u001b[0m\u001b[1;33m\u001b[0m\u001b[0m\n",
      "\u001b[1;31mKeyboardInterrupt\u001b[0m: "
     ]
    }
   ],
   "source": [
    "root = tk.Tk()\n",
    "root.title(\"Article Summerizer\")\n",
    "root.geometry('1200x600')\n",
    "\n",
    "\n",
    "tlabel =  tk.Label(root, text=\"Title\")\n",
    "tlabel.pack()\n",
    "title = tk.Text(root, height=1, width=140)\n",
    "title.config(state='disabled',bg='#dddddd')\n",
    "title.pack()\n",
    "\n",
    "alabel =  tk.Label(root, text=\"Author\")\n",
    "alabel.pack()\n",
    "author = tk.Text(root, height=1, width=140)\n",
    "author.config(state='disabled',bg='#dddddd')\n",
    "author.pack()\n",
    "\n",
    "plabel =  tk.Label(root, text=\"Publishing Date\")\n",
    "plabel.pack()\n",
    "publication = tk.Text(root, height=1, width=140)\n",
    "publication.config(state='disabled',bg='#dddddd')\n",
    "publication.pack()\n",
    "\n",
    "slabel =  tk.Label(root, text=\"Summary\")\n",
    "slabel.pack()\n",
    "summary = tk.Text(root, height=20, width=140)\n",
    "summary.config(state='disabled',bg='#dddddd')\n",
    "summary.pack()\n",
    "\n",
    "selabel =  tk.Label(root, text=\"Sentiment Analysis\")\n",
    "selabel.pack()\n",
    "sentiment = tk.Text(root, height=1, width=140)\n",
    "sentiment.config(state='disabled',bg='#dddddd')\n",
    "sentiment.pack()\n",
    "\n",
    "ulabel =  tk.Label(root, text=\"URL\")\n",
    "ulabel.pack()\n",
    "utext = tk.Text(root, height=1, width=140)\n",
    "utext.pack()\n",
    "\n",
    "btn = tk.Button(root,text=\"Summerize\",command = summerize)\n",
    "btn.pack()\n",
    "\n",
    "\n",
    "\n",
    "root.mainloop()"
   ]
  },
  {
   "cell_type": "code",
   "execution_count": null,
   "id": "8554004e",
   "metadata": {},
   "outputs": [],
   "source": []
  }
 ],
 "metadata": {
  "kernelspec": {
   "display_name": "Python 3 (ipykernel)",
   "language": "python",
   "name": "python3"
  },
  "language_info": {
   "codemirror_mode": {
    "name": "ipython",
    "version": 3
   },
   "file_extension": ".py",
   "mimetype": "text/x-python",
   "name": "python",
   "nbconvert_exporter": "python",
   "pygments_lexer": "ipython3",
   "version": "3.7.0"
  }
 },
 "nbformat": 4,
 "nbformat_minor": 5
}
